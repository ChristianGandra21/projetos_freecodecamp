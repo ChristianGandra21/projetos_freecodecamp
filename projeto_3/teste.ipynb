{
 "cells": [
  {
   "cell_type": "code",
   "execution_count": 1,
   "id": "56fe542e",
   "metadata": {},
   "outputs": [],
   "source": [
    "import pandas as pd\n",
    "import seaborn as sns\n",
    "import matplotlib.pyplot as plt\n",
    "import numpy as np"
   ]
  },
  {
   "cell_type": "code",
   "execution_count": 2,
   "id": "2b264cc7",
   "metadata": {},
   "outputs": [],
   "source": [
    "df = pd.read_csv('medical_examination.csv')"
   ]
  },
  {
   "cell_type": "code",
   "execution_count": 4,
   "id": "7b780802",
   "metadata": {},
   "outputs": [],
   "source": [
    "df['overweight'] = ((df['weight'] / ((df['height'] / 100) ** 2)) > 25).astype(int)"
   ]
  },
  {
   "cell_type": "code",
   "execution_count": 6,
   "id": "2497d0dc",
   "metadata": {},
   "outputs": [],
   "source": [
    "df['cholesterol'] = (df['cholesterol'] > 1).astype(int)\n",
    "df['gluc'] = (df['gluc'] > 1).astype(int)\n"
   ]
  },
  {
   "cell_type": "code",
   "execution_count": 10,
   "id": "0f209054",
   "metadata": {},
   "outputs": [],
   "source": [
    "def draw_cat_plot():\n",
    "    # 5. Criar DataFrame no formato longo (long format)\n",
    "    df_cat = pd.melt(\n",
    "        df,\n",
    "        id_vars=[\"cardio\"],\n",
    "        value_vars=[\"cholesterol\", \"gluc\", \"smoke\", \"alco\", \"active\", \"overweight\"]\n",
    "    )\n",
    "\n",
    "    # 6. Agrupar os dados e contar as ocorrências\n",
    "    df_cat = df_cat.groupby([\"cardio\", \"variable\", \"value\"]).size().reset_index(name=\"total\")\n",
    "\n",
    "    # 7. Criar o gráfico categórico com seaborn\n",
    "    fig = sns.catplot(\n",
    "        data=df_cat,\n",
    "        kind=\"bar\",\n",
    "        x=\"variable\",\n",
    "        y=\"total\",\n",
    "        hue=\"value\",\n",
    "        col=\"cardio\"\n",
    "    ).fig\n",
    "\n",
    "    # 8. Salvar a figura\n",
    "    fig.savefig('catplot.png')\n",
    "    return fig\n",
    "\n"
   ]
  },
  {
   "cell_type": "code",
   "execution_count": null,
   "id": "555c0e19",
   "metadata": {},
   "outputs": [],
   "source": [
    "def draw_heat_map():\n",
    "    # 11. Limpeza dos dados\n",
    "    df_heat = df[\n",
    "        (df['ap_lo'] <= df['ap_hi']) &\n",
    "        (df['height'] >= df['height'].quantile(0.025)) &\n",
    "        (df['height'] <= df['height'].quantile(0.975)) &\n",
    "        (df['weight'] >= df['weight'].quantile(0.025)) &\n",
    "        (df['weight'] <= df['weight'].quantile(0.975))\n",
    "    ]\n",
    "\n",
    "    # 12. Calcular a matriz de correlação\n",
    "    corr = df_heat.corr(numeric_only=True)\n",
    "\n",
    "    # 13. Criar a máscara para o triângulo superior\n",
    "    mask = np.triu(np.ones_like(corr, dtype=bool))\n",
    "\n",
    "    # 14. Configurar a figura\n",
    "    fig, ax = plt.subplots(figsize=(12, 10))\n",
    "\n",
    "    # 15. Plotar o heatmap\n",
    "    sns.heatmap(\n",
    "        corr,\n",
    "        mask=mask,\n",
    "        annot=True,\n",
    "        fmt=\".1f\",\n",
    "        center=0,\n",
    "        square=True,\n",
    "        linewidths=0.5,\n",
    "        cbar_kws={\"shrink\": 0.5}\n",
    "    )\n",
    "\n",
    "    # 16. Salvar a figura\n",
    "    fig.savefig('heatmap.png')\n",
    "    return fig\n"
   ]
  }
 ],
 "metadata": {
  "kernelspec": {
   "display_name": "Python 3",
   "language": "python",
   "name": "python3"
  },
  "language_info": {
   "codemirror_mode": {
    "name": "ipython",
    "version": 3
   },
   "file_extension": ".py",
   "mimetype": "text/x-python",
   "name": "python",
   "nbconvert_exporter": "python",
   "pygments_lexer": "ipython3",
   "version": "3.11.9"
  }
 },
 "nbformat": 4,
 "nbformat_minor": 5
}
