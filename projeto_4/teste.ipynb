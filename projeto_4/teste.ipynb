{
 "cells": [
  {
   "cell_type": "code",
   "execution_count": 1,
   "id": "b13f51dc",
   "metadata": {},
   "outputs": [],
   "source": [
    "import matplotlib.pyplot as plt\n",
    "import pandas as pd\n",
    "import seaborn as sns\n",
    "from pandas.plotting import register_matplotlib_converters\n",
    "register_matplotlib_converters()"
   ]
  },
  {
   "cell_type": "code",
   "execution_count": 2,
   "id": "1ccf960b",
   "metadata": {},
   "outputs": [],
   "source": [
    "# Importar e limpar os dados\n",
    "df = pd.read_csv(\"fcc-forum-pageviews.csv\", parse_dates=['date'], index_col='date')"
   ]
  },
  {
   "cell_type": "code",
   "execution_count": 3,
   "id": "cdf8cb2d",
   "metadata": {},
   "outputs": [],
   "source": [
    "df_limpo = df[\n",
    "    (df['value'] >= df['value'].quantile(0.025)) & \n",
    "    (df['value'] <= df['value'].quantile(0.975))\n",
    "]"
   ]
  },
  {
   "cell_type": "code",
   "execution_count": 4,
   "id": "5401d357",
   "metadata": {},
   "outputs": [],
   "source": [
    "def draw_line_plot():\n",
    "    # Copiar o dataframe limpo\n",
    "    df_plot = df_limpo.copy()\n",
    "\n",
    "    # Criar figura e gráfico\n",
    "    fig, ax = plt.subplots(figsize=(15, 5))\n",
    "    ax.plot(df_plot.index, df_plot['value'], color='red', linewidth=1)\n",
    "    ax.set_title('Daily freeCodeCamp Forum Page Views 5/2016-12/2019')\n",
    "    ax.set_xlabel('Date')\n",
    "    ax.set_ylabel('Page Views')\n",
    "\n",
    "    # Salvar figura\n",
    "    fig.savefig('line_plot.png')\n",
    "    return fig"
   ]
  },
  {
   "cell_type": "code",
   "execution_count": 5,
   "id": "e391235d",
   "metadata": {},
   "outputs": [],
   "source": [
    "def draw_bar_plot():\n",
    "    # Preparar os dados\n",
    "    df_bar = df_limpo.copy()\n",
    "    df_bar['year'] = df_bar.index.year\n",
    "    df_bar['month'] = df_bar.index.month\n",
    "    df_bar['month_name'] = df_bar.index.strftime('%B')\n",
    "\n",
    "    # Agrupar por ano e mês e calcular média\n",
    "    df_grouped = df_bar.groupby(['year', 'month_name'])['value'].mean().unstack()\n",
    "\n",
    "    # Garantir ordem correta dos meses\n",
    "    ordered_months = ['January', 'February', 'March', 'April', 'May', 'June',\n",
    "                      'July', 'August', 'September', 'October', 'November', 'December']\n",
    "    df_grouped = df_grouped[ordered_months]\n",
    "\n",
    "    # Criar gráfico de barras\n",
    "    fig = df_grouped.plot(kind='bar', figsize=(15, 7)).figure\n",
    "    plt.xlabel('Years')\n",
    "    plt.ylabel('Average Page Views')\n",
    "    plt.legend(title='Months')\n",
    "    plt.tight_layout()\n",
    "\n",
    "    # Salvar figura\n",
    "    fig.savefig('bar_plot.png')\n",
    "    return fig"
   ]
  },
  {
   "cell_type": "code",
   "execution_count": 6,
   "id": "d264bfc8",
   "metadata": {},
   "outputs": [],
   "source": [
    "def draw_box_plot():\n",
    "    # Preparar dados\n",
    "    df_box = df_limpo.copy()\n",
    "    df_box.reset_index(inplace=True)\n",
    "    df_box['year'] = df_box['date'].dt.year\n",
    "    df_box['month'] = df_box['date'].dt.strftime('%b')\n",
    "    df_box['month_num'] = df_box['date'].dt.month\n",
    "\n",
    "    # Ordenar meses corretamente\n",
    "    df_box = df_box.sort_values('month_num')\n",
    "\n",
    "    # Criar figura e subplots\n",
    "    fig, axes = plt.subplots(nrows=1, ncols=2, figsize=(20, 6))\n",
    "\n",
    "    # Boxplot por ano\n",
    "    sns.boxplot(x='year', y='value', data=df_box, ax=axes[0])\n",
    "    axes[0].set_title('Year-wise Box Plot (Trend)')\n",
    "    axes[0].set_xlabel('Year')\n",
    "    axes[0].set_ylabel('Page Views')\n",
    "\n",
    "    # Boxplot por mês\n",
    "    sns.boxplot(x='month', y='value', data=df_box, ax=axes[1])\n",
    "    axes[1].set_title('Month-wise Box Plot (Seasonality)')\n",
    "    axes[1].set_xlabel('Month')\n",
    "    axes[1].set_ylabel('Page Views')\n",
    "\n",
    "    # Salvar figura\n",
    "    fig.savefig('box_plot.png')\n",
    "    return fig"
   ]
  }
 ],
 "metadata": {
  "kernelspec": {
   "display_name": "Python 3",
   "language": "python",
   "name": "python3"
  },
  "language_info": {
   "codemirror_mode": {
    "name": "ipython",
    "version": 3
   },
   "file_extension": ".py",
   "mimetype": "text/x-python",
   "name": "python",
   "nbconvert_exporter": "python",
   "pygments_lexer": "ipython3",
   "version": "3.11.9"
  }
 },
 "nbformat": 4,
 "nbformat_minor": 5
}
