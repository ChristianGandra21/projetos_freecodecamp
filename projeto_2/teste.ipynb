{
 "cells": [
  {
   "cell_type": "code",
   "execution_count": 11,
   "id": "0167f5d7",
   "metadata": {},
   "outputs": [
    {
     "name": "stdout",
     "output_type": "stream",
     "text": [
      "39.43354749885268\n",
      "Contagem\n",
      "age\n",
      "25    0.038282\n",
      "24    0.036415\n",
      "27    0.035854\n",
      "26    0.035854\n",
      "23    0.034734\n",
      "        ...   \n",
      "79    0.000373\n",
      "84    0.000187\n",
      "20    0.000187\n",
      "83    0.000187\n",
      "85    0.000187\n",
      "Name: proportion, Length: 66, dtype: float64\n"
     ]
    }
   ],
   "source": [
    "import pandas as pd\n",
    "\n",
    "    # Read data from file\n",
    "df = pd.read_csv('adult.data.csv')\n",
    "\n",
    "df['race'].value_counts()\n",
    "\n",
    "mean_male_age = df[df['sex'] == 'Male']['age'].mean()\n",
    "print(mean_male_age)\n",
    "\n",
    "print('Contagem')\n",
    "print(df[df['education'] == 'Bachelors']['age'].value_counts(normalize=True))"
   ]
  }
 ],
 "metadata": {
  "kernelspec": {
   "display_name": "Python 3",
   "language": "python",
   "name": "python3"
  },
  "language_info": {
   "codemirror_mode": {
    "name": "ipython",
    "version": 3
   },
   "file_extension": ".py",
   "mimetype": "text/x-python",
   "name": "python",
   "nbconvert_exporter": "python",
   "pygments_lexer": "ipython3",
   "version": "3.11.9"
  }
 },
 "nbformat": 4,
 "nbformat_minor": 5
}
